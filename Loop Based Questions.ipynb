{
 "cells": [
  {
   "cell_type": "markdown",
   "id": "4028121c",
   "metadata": {},
   "source": [
    "# Basic Level:"
   ]
  },
  {
   "cell_type": "markdown",
   "id": "cf5833b3",
   "metadata": {},
   "source": [
    "# 1. Write a Python program to print the numbers from 1 to 10 using a `for` loop."
   ]
  },
  {
   "cell_type": "code",
   "execution_count": 1,
   "id": "2dbe3272",
   "metadata": {},
   "outputs": [
    {
     "name": "stdout",
     "output_type": "stream",
     "text": [
      "1\n",
      "2\n",
      "3\n",
      "4\n",
      "5\n",
      "6\n",
      "7\n",
      "8\n",
      "9\n",
      "10\n"
     ]
    }
   ],
   "source": [
    "for i in range(1,11):\n",
    "    print(i)"
   ]
  },
  {
   "cell_type": "markdown",
   "id": "a40caace",
   "metadata": {},
   "source": [
    "# 2. Create a program that calculates the sum of all numbers in a list using a `for` loop."
   ]
  },
  {
   "cell_type": "code",
   "execution_count": 2,
   "id": "4bd08936",
   "metadata": {},
   "outputs": [
    {
     "name": "stdout",
     "output_type": "stream",
     "text": [
      "the sum of the numbers in the list is:15\n"
     ]
    }
   ],
   "source": [
    "my_list = [1, 2, 3, 4, 5]\n",
    "\n",
    "sum_of_list = 0\n",
    "for num in my_list:\n",
    "    sum_of_list += num\n",
    "    \n",
    "    \n",
    "    \n",
    "print(f\"the sum of the numbers in the list is:{sum_of_list}\")    "
   ]
  },
  {
   "cell_type": "markdown",
   "id": "f076eab4",
   "metadata": {},
   "source": [
    "# 3. Write a program to print the characters of a string in reverse order using a `for` loop."
   ]
  },
  {
   "cell_type": "code",
   "execution_count": 4,
   "id": "60280688",
   "metadata": {},
   "outputs": [
    {
     "name": "stdout",
     "output_type": "stream",
     "text": [
      "!slliks wp"
     ]
    }
   ],
   "source": [
    "my_string = \"pw skills!\"\n",
    "\n",
    "for i in range(len(my_string)-1, -1, -1):\n",
    "    print(my_string[i], end='')"
   ]
  },
  {
   "cell_type": "markdown",
   "id": "f62edde8",
   "metadata": {},
   "source": [
    "# 4. Develop a program that finds the factorial of a given number using a `for` loop."
   ]
  },
  {
   "cell_type": "code",
   "execution_count": 7,
   "id": "8cb16412",
   "metadata": {},
   "outputs": [
    {
     "name": "stdout",
     "output_type": "stream",
     "text": [
      "the factorial of 5 is:120\n"
     ]
    }
   ],
   "source": [
    "def factorial(n):\n",
    "    fact = 1\n",
    "    for i in range(1, n+1):\n",
    "        fact *= i\n",
    "    return fact\n",
    "\n",
    "\n",
    "\n",
    "\n",
    "number = 5\n",
    "result = factorial(number)\n",
    "print(f\"the factorial of {number} is:{result}\")"
   ]
  },
  {
   "cell_type": "markdown",
   "id": "ebc22f5d",
   "metadata": {},
   "source": [
    "# 5. Create a program to print the multiplication table of a given number using a `for` loop."
   ]
  },
  {
   "cell_type": "code",
   "execution_count": 10,
   "id": "f04e8625",
   "metadata": {},
   "outputs": [
    {
     "name": "stdout",
     "output_type": "stream",
     "text": [
      "multiplication table for 5:\n",
      " 5 x 1 = 5\n",
      " 5 x 2 = 10\n",
      " 5 x 3 = 15\n",
      " 5 x 4 = 20\n",
      " 5 x 5 = 25\n",
      " 5 x 6 = 30\n",
      " 5 x 7 = 35\n",
      " 5 x 8 = 40\n",
      " 5 x 9 = 45\n",
      " 5 x 10 = 50\n"
     ]
    }
   ],
   "source": [
    "def print_multiplication_table(number):\n",
    "    print(f\"multiplication table for {number}:\")\n",
    "    for i in range(1, 11):\n",
    "        print(f\" {number} x {i} = {number * i}\")\n",
    "        \n",
    "given_number = 5\n",
    "print_multiplication_table(given_number)"
   ]
  },
  {
   "cell_type": "markdown",
   "id": "75f8d7ba",
   "metadata": {},
   "source": [
    "# 6. Write a program that counts the number of even and odd numbers in a list using a `for` loop."
   ]
  },
  {
   "cell_type": "code",
   "execution_count": 11,
   "id": "6b9d95c8",
   "metadata": {},
   "outputs": [
    {
     "name": "stdout",
     "output_type": "stream",
     "text": [
      "number of even numbers: 5\n",
      "number of odd numbers: 5\n"
     ]
    }
   ],
   "source": [
    "my_list = [1, 2, 3, 4, 5, 6, 7, 8, 9, 10]\n",
    "\n",
    "even_count = 0\n",
    "odd_count = 0\n",
    "\n",
    "for num in my_list:\n",
    "    if num % 2 == 0:\n",
    "        even_count += 1\n",
    "    else:\n",
    "        odd_count += 1\n",
    "        \n",
    "        \n",
    "        \n",
    "        \n",
    "        \n",
    "print(f\"number of even numbers: {even_count}\")  \n",
    "print(f\"number of odd numbers: {odd_count}\")  "
   ]
  },
  {
   "cell_type": "markdown",
   "id": "75839b9b",
   "metadata": {},
   "source": [
    "# 7. Develop a program that prints the squares of numbers from 1 to 5 using a `for` loop."
   ]
  },
  {
   "cell_type": "code",
   "execution_count": 12,
   "id": "de9c8bd8",
   "metadata": {},
   "outputs": [
    {
     "name": "stdout",
     "output_type": "stream",
     "text": [
      "the square of 1 is 1\n",
      "the square of 2 is 4\n",
      "the square of 3 is 9\n",
      "the square of 4 is 16\n",
      "the square of 5 is 25\n"
     ]
    }
   ],
   "source": [
    "for i in range(1, 6):\n",
    "    print(f\"the square of {i} is {i**2}\")"
   ]
  },
  {
   "cell_type": "markdown",
   "id": "5044faab",
   "metadata": {},
   "source": [
    "# 8. Create a program to find the length of a string without using the `len()` function."
   ]
  },
  {
   "cell_type": "code",
   "execution_count": 14,
   "id": "6b86dd4e",
   "metadata": {},
   "outputs": [
    {
     "name": "stdout",
     "output_type": "stream",
     "text": [
      "the length of the string is: 14\n"
     ]
    }
   ],
   "source": [
    "def find_length(input_string):\n",
    "    count = 0\n",
    "    for _ in input_string:\n",
    "        count += 1\n",
    "    return count\n",
    "\n",
    "my_string = \"hello, world!!\"\n",
    "length = find_length(my_string)\n",
    "print(f\"the length of the string is: {length}\")"
   ]
  },
  {
   "cell_type": "markdown",
   "id": "6bf869ac",
   "metadata": {},
   "source": [
    "# 9. Write a program that calculates the average of a list of numbers using a `for` loop."
   ]
  },
  {
   "cell_type": "code",
   "execution_count": 15,
   "id": "ed399062",
   "metadata": {},
   "outputs": [
    {
     "name": "stdout",
     "output_type": "stream",
     "text": [
      "the average of the numbers in the list is: 3.0\n"
     ]
    }
   ],
   "source": [
    "my_list = [1, 2, 3, 4, 5]\n",
    "\n",
    "sum_of_list = 0\n",
    "for num in my_list:\n",
    "    sum_of_list += num\n",
    "    \n",
    "average = sum_of_list / len(my_list)\n",
    "print(f\"the average of the numbers in the list is: {average}\")"
   ]
  },
  {
   "cell_type": "markdown",
   "id": "128d64ba",
   "metadata": {},
   "source": [
    "# 10. Develop a program that prints the first `n` Fibonacci numbers using a `for` loop."
   ]
  },
  {
   "cell_type": "code",
   "execution_count": 17,
   "id": "4c1b6312",
   "metadata": {},
   "outputs": [
    {
     "name": "stdout",
     "output_type": "stream",
     "text": [
      "the first 10 fibonacci numbers are: [0, 1, 1, 2, 3, 5, 8, 13, 21, 34]\n"
     ]
    }
   ],
   "source": [
    "def fibonacci_numbers(n):\n",
    "    fib_sequence = [0, 1]\n",
    "    for i in range(2, n):\n",
    "        next_fib = fib_sequence[i-1] + fib_sequence[i-2]\n",
    "        fib_sequence.append(next_fib)\n",
    "    return fib_sequence\n",
    "\n",
    "\n",
    "\n",
    "\n",
    "n = 10\n",
    "result = fibonacci_numbers(n)\n",
    "print(f\"the first {n} fibonacci numbers are: {result}\")"
   ]
  },
  {
   "cell_type": "markdown",
   "id": "d648414b",
   "metadata": {},
   "source": [
    "# Intermediate Level:"
   ]
  },
  {
   "cell_type": "markdown",
   "id": "12ff067d",
   "metadata": {},
   "source": [
    "# 11. Write a program to check if a given list contains any duplicates using a `for` loop."
   ]
  },
  {
   "cell_type": "code",
   "execution_count": 19,
   "id": "4c898a96",
   "metadata": {},
   "outputs": [
    {
     "name": "stdout",
     "output_type": "stream",
     "text": [
      "the list contains duplicates.\n"
     ]
    }
   ],
   "source": [
    "def check_duplicates(input_list):\n",
    "    seen = set()\n",
    "    for item in input_list:\n",
    "        if item in seen:\n",
    "            return True\n",
    "        seen.add(item)\n",
    "    return False\n",
    "\n",
    "\n",
    "\n",
    "\n",
    "\n",
    "my_list = [1, 2, 3, 4, 5, 1]\n",
    "result = check_duplicates(my_list)\n",
    "if result:\n",
    "    print(\"the list contains duplicates.\")\n",
    "else:\n",
    "    print(\"the list dose not contain duplicates.\")"
   ]
  },
  {
   "cell_type": "markdown",
   "id": "820b1ef2",
   "metadata": {},
   "source": [
    "# 12. Create a program that prints the prime numbers in a given range using a `for` loop."
   ]
  },
  {
   "cell_type": "code",
   "execution_count": 20,
   "id": "2dcc28fa",
   "metadata": {},
   "outputs": [
    {
     "name": "stdout",
     "output_type": "stream",
     "text": [
      "Prime numbers between 1 and 50 are:\n",
      "2\n",
      "3\n",
      "5\n",
      "7\n",
      "11\n",
      "13\n",
      "17\n",
      "19\n",
      "23\n",
      "29\n",
      "31\n",
      "37\n",
      "41\n",
      "43\n",
      "47\n"
     ]
    }
   ],
   "source": [
    "def is_prime(num):\n",
    "    if num <= 1:\n",
    "        return False\n",
    "    for i in range(2, int(num**0.5) + 1):\n",
    "        if num % i == 0:\n",
    "            return False\n",
    "    return True\n",
    "\n",
    "def print_primes_in_range(start, end):\n",
    "    print(f\"Prime numbers between {start} and {end} are:\")\n",
    "    for num in range(start, end + 1):\n",
    "        if is_prime(num):\n",
    "            print(num)\n",
    "\n",
    "\n",
    "start_range = 1  \n",
    "end_range = 50  \n",
    "print_primes_in_range(start_range, end_range)\n"
   ]
  },
  {
   "cell_type": "markdown",
   "id": "e06bb528",
   "metadata": {},
   "source": [
    "# 13. Develop a program that counts the number of vowels in a string using a `for` loop."
   ]
  },
  {
   "cell_type": "code",
   "execution_count": 21,
   "id": "83d0eb73",
   "metadata": {},
   "outputs": [
    {
     "name": "stdout",
     "output_type": "stream",
     "text": [
      "The number of vowels in the string is: 8\n"
     ]
    }
   ],
   "source": [
    "def count_vowels(input_string):\n",
    "    count = 0\n",
    "    vowels = \"aeiouAEIOU\"\n",
    "    for char in input_string:\n",
    "        if char in vowels:\n",
    "            count += 1\n",
    "    return count\n",
    "\n",
    "\n",
    "my_string = \"Hello, this is a sample string\"  \n",
    "result = count_vowels(my_string)\n",
    "print(f\"The number of vowels in the string is: {result}\")\n"
   ]
  },
  {
   "cell_type": "markdown",
   "id": "b1ea4c55",
   "metadata": {},
   "source": [
    "# 14. Write a program to find the maximum element in a 2D list using a nested `for` loop."
   ]
  },
  {
   "cell_type": "code",
   "execution_count": 22,
   "id": "620460fc",
   "metadata": {},
   "outputs": [
    {
     "name": "stdout",
     "output_type": "stream",
     "text": [
      "The maximum element in the 2D list is: 9\n"
     ]
    }
   ],
   "source": [
    "def find_max_element_2d(input_list):\n",
    "    max_element = float('-inf')\n",
    "    for row in input_list:\n",
    "        for element in row:\n",
    "            if element > max_element:\n",
    "                max_element = element\n",
    "    return max_element\n",
    "\n",
    "\n",
    "my_2d_list = [[1, 2, 3], [4, 5, 6], [7, 8, 9]] \n",
    "result = find_max_element_2d(my_2d_list)\n",
    "print(f\"The maximum element in the 2D list is: {result}\")\n"
   ]
  },
  {
   "cell_type": "markdown",
   "id": "90f32eec",
   "metadata": {},
   "source": [
    "# 15. Create a program that removes all occurrences of a specific element from a list using a `for` loop."
   ]
  },
  {
   "cell_type": "code",
   "execution_count": 26,
   "id": "c51351f5",
   "metadata": {},
   "outputs": [
    {
     "name": "stdout",
     "output_type": "stream",
     "text": [
      "the list after removing all occurrence of 2 is: [1, 3, 4, 1, 3, 8]\n"
     ]
    }
   ],
   "source": [
    "def remove_element(input_list, target):\n",
    "    output_list = [x for x in input_list if x != target]\n",
    "    return output_list\n",
    "\n",
    "\n",
    "\n",
    "\n",
    "my_list = [1, 2, 3, 2, 4, 1, 3, 8]\n",
    "element_to_remove = 2\n",
    "result = remove_element(my_list, element_to_remove)\n",
    "print(f\"the list after removing all occurrence of {element_to_remove} is: {result}\")"
   ]
  },
  {
   "cell_type": "markdown",
   "id": "4e1a7dea",
   "metadata": {},
   "source": [
    "# 16. Develop a program that generates a multiplication table for numbers from 1 to 5 using a nested `for` loop."
   ]
  },
  {
   "cell_type": "code",
   "execution_count": 27,
   "id": "cffa957f",
   "metadata": {},
   "outputs": [
    {
     "name": "stdout",
     "output_type": "stream",
     "text": [
      "multiplication table for 1:\n",
      " 1 * 1 = 1\n",
      " 1 * 2 = 2\n",
      " 1 * 3 = 3\n",
      " 1 * 4 = 4\n",
      " 1 * 5 = 5\n",
      " 1 * 6 = 6\n",
      " 1 * 7 = 7\n",
      " 1 * 8 = 8\n",
      " 1 * 9 = 9\n",
      " 1 * 10 = 10\n",
      "\n",
      "\n",
      "multiplication table for 2:\n",
      " 2 * 1 = 2\n",
      " 2 * 2 = 4\n",
      " 2 * 3 = 6\n",
      " 2 * 4 = 8\n",
      " 2 * 5 = 10\n",
      " 2 * 6 = 12\n",
      " 2 * 7 = 14\n",
      " 2 * 8 = 16\n",
      " 2 * 9 = 18\n",
      " 2 * 10 = 20\n",
      "\n",
      "\n",
      "multiplication table for 3:\n",
      " 3 * 1 = 3\n",
      " 3 * 2 = 6\n",
      " 3 * 3 = 9\n",
      " 3 * 4 = 12\n",
      " 3 * 5 = 15\n",
      " 3 * 6 = 18\n",
      " 3 * 7 = 21\n",
      " 3 * 8 = 24\n",
      " 3 * 9 = 27\n",
      " 3 * 10 = 30\n",
      "\n",
      "\n",
      "multiplication table for 4:\n",
      " 4 * 1 = 4\n",
      " 4 * 2 = 8\n",
      " 4 * 3 = 12\n",
      " 4 * 4 = 16\n",
      " 4 * 5 = 20\n",
      " 4 * 6 = 24\n",
      " 4 * 7 = 28\n",
      " 4 * 8 = 32\n",
      " 4 * 9 = 36\n",
      " 4 * 10 = 40\n",
      "\n",
      "\n",
      "multiplication table for 5:\n",
      " 5 * 1 = 5\n",
      " 5 * 2 = 10\n",
      " 5 * 3 = 15\n",
      " 5 * 4 = 20\n",
      " 5 * 5 = 25\n",
      " 5 * 6 = 30\n",
      " 5 * 7 = 35\n",
      " 5 * 8 = 40\n",
      " 5 * 9 = 45\n",
      " 5 * 10 = 50\n",
      "\n",
      "\n"
     ]
    }
   ],
   "source": [
    "for i in range(1, 6):\n",
    "    print(f\"multiplication table for {i}:\")\n",
    "    for j in range(1, 11):\n",
    "        print(f\" {i} * {j} = {i*j}\")\n",
    "    print(\"\\n\")    "
   ]
  },
  {
   "cell_type": "markdown",
   "id": "e51b0584",
   "metadata": {},
   "source": [
    "# 17. Write a program that converts a list of Fahrenheit temperatures to Celsius using a `for` loop."
   ]
  },
  {
   "cell_type": "code",
   "execution_count": 32,
   "id": "b82f95a5",
   "metadata": {},
   "outputs": [
    {
     "name": "stdout",
     "output_type": "stream",
     "text": [
      "The temperatures in Celsius are: [0.0, 20.0, 40.0, 100.0]\n"
     ]
    }
   ],
   "source": [
    "def fahrenheit_to_celsius(fahrenheit_list):\n",
    "    celsius_list = []\n",
    "    for temp in fahrenheit_list:\n",
    "        celsius = (temp - 32) * 5/9\n",
    "        celsius_list.append(celsius)\n",
    "    return celsius_list\n",
    "\n",
    "# Example usage:\n",
    "fahrenheit_temperatures = [32, 68, 104, 212]  \n",
    "celsius_temperatures = fahrenheit_to_celsius(fahrenheit_temperatures)\n",
    "print(f\"The temperatures in Celsius are: {celsius_temperatures}\")\n"
   ]
  },
  {
   "cell_type": "markdown",
   "id": "6598443f",
   "metadata": {},
   "source": [
    "# 18. Create a program to print the common elements from two lists using a `for` loop."
   ]
  },
  {
   "cell_type": "code",
   "execution_count": 33,
   "id": "05babaac",
   "metadata": {},
   "outputs": [
    {
     "name": "stdout",
     "output_type": "stream",
     "text": [
      "The common elements are: [3, 4, 5]\n"
     ]
    }
   ],
   "source": [
    "def find_common_elements(list1, list2):\n",
    "    common_elements = []\n",
    "    for item in list1:\n",
    "        if item in list2 and item not in common_elements:\n",
    "            common_elements.append(item)\n",
    "    return common_elements\n",
    "\n",
    "# Example usage:\n",
    "list1 = [1, 2, 3, 4, 5]  \n",
    "list2 = [3, 4, 5, 6, 7]\n",
    "result = find_common_elements(list1, list2)\n",
    "print(f\"The common elements are: {result}\")\n"
   ]
  },
  {
   "cell_type": "markdown",
   "id": "fca556c0",
   "metadata": {},
   "source": [
    "# 19. Develop a program that prints the pattern of right-angled triangles using a `for` loop. Use ‘*’ to draw the pattern"
   ]
  },
  {
   "cell_type": "code",
   "execution_count": 34,
   "id": "5316204b",
   "metadata": {},
   "outputs": [
    {
     "name": "stdout",
     "output_type": "stream",
     "text": [
      "*\n",
      "**\n",
      "***\n",
      "****\n",
      "*****\n"
     ]
    }
   ],
   "source": [
    "def print_rightangled_triangle(n):\n",
    "    for i in range(1, n + 1):\n",
    "        print(\"*\" * i)\n",
    "        \n",
    "        \n",
    "        \n",
    "        \n",
    "n = 5\n",
    "print_rightangled_triangle(n)"
   ]
  },
  {
   "cell_type": "markdown",
   "id": "c2a81c90",
   "metadata": {},
   "source": [
    "# 20. Write a program to find the greatest common divisor (GCD) of two numbers using a `for` loop."
   ]
  },
  {
   "cell_type": "code",
   "execution_count": 36,
   "id": "ef32b502",
   "metadata": {},
   "outputs": [
    {
     "name": "stdout",
     "output_type": "stream",
     "text": [
      "The greatest common divisor of 24 and 36 is: 12\n"
     ]
    }
   ],
   "source": [
    "def find_gcd(a, b):\n",
    "    smaller = min(a, b)\n",
    "    gcd = 1\n",
    "    for i in range(1, smaller + 1):\n",
    "        if a % i == 0 and b % i == 0:\n",
    "            gcd = i\n",
    "    return gcd\n",
    "\n",
    "\n",
    "num1 = 24  \n",
    "num2 = 36\n",
    "result = find_gcd(num1, num2)\n",
    "print(f\"The greatest common divisor of {num1} and {num2} is: {result}\")\n"
   ]
  },
  {
   "cell_type": "markdown",
   "id": "871c1c0a",
   "metadata": {},
   "source": [
    "# Advanced Level:"
   ]
  },
  {
   "cell_type": "markdown",
   "id": "2f94a1f6",
   "metadata": {},
   "source": [
    "# 21. Create a program that calculates the sum of the digits of numbers in a list using a list comprehension."
   ]
  },
  {
   "cell_type": "code",
   "execution_count": 37,
   "id": "8649cea5",
   "metadata": {},
   "outputs": [
    {
     "name": "stdout",
     "output_type": "stream",
     "text": [
      "the sum of digits of numbers in the list is: [6, 9, 21, 10]\n"
     ]
    }
   ],
   "source": [
    "my_list = [123, 45, 678, 910]\n",
    "\n",
    "sum_of_digits = [sum(int(digit) for digit in str(num)) for num in my_list]\n",
    "\n",
    "print(f\"the sum of digits of numbers in the list is: {sum_of_digits}\")"
   ]
  },
  {
   "cell_type": "markdown",
   "id": "57535a76",
   "metadata": {},
   "source": [
    "# 22. Write a program to find the prime factors of a given number using a `for` loop and list comprehension."
   ]
  },
  {
   "cell_type": "code",
   "execution_count": 39,
   "id": "0967549f",
   "metadata": {},
   "outputs": [
    {
     "name": "stdout",
     "output_type": "stream",
     "text": [
      "The prime factors of 60 are: [2, 3, 5]\n"
     ]
    }
   ],
   "source": [
    "def prime_factors(n):\n",
    "    factors = [i for i in range(2, n+1) if n % i == 0]\n",
    "    prime_factors = [i for i in factors if all(i % j != 0 for j in range(2, i))]\n",
    "    return prime_factors\n",
    "\n",
    "\n",
    "\n",
    "\n",
    "\n",
    "number = 60  \n",
    "result = prime_factors(number)\n",
    "print(f\"The prime factors of {number} are: {result}\")\n"
   ]
  },
  {
   "cell_type": "markdown",
   "id": "a59ada57",
   "metadata": {},
   "source": [
    "# 23. Develop a program that extracts unique elements from a list and stores them in a new list using a list comprehension."
   ]
  },
  {
   "cell_type": "code",
   "execution_count": 40,
   "id": "c2a8ffa0",
   "metadata": {},
   "outputs": [
    {
     "name": "stdout",
     "output_type": "stream",
     "text": [
      "the unique elemnts in the list are: [1, 2, 3, 4, 5, 6]\n"
     ]
    }
   ],
   "source": [
    "my_list = [1, 2, 2, 3, 3, 4, 5, 5, 6, 6]\n",
    "\n",
    "unique_element = list(set([x for x in my_list]))\n",
    "\n",
    "print(f\"the unique elemnts in the list are: {unique_element}\")"
   ]
  },
  {
   "cell_type": "markdown",
   "id": "baaa72e7",
   "metadata": {},
   "source": [
    "# 24. Create a program that generates a list of all palindromic numbers up to a specified limit using a list comprehension."
   ]
  },
  {
   "cell_type": "code",
   "execution_count": 41,
   "id": "9dca1fa4",
   "metadata": {},
   "outputs": [
    {
     "name": "stdout",
     "output_type": "stream",
     "text": [
      "The palindromic numbers up to 1000 are: [1, 2, 3, 4, 5, 6, 7, 8, 9, 11, 22, 33, 44, 55, 66, 77, 88, 99, 101, 111, 121, 131, 141, 151, 161, 171, 181, 191, 202, 212, 222, 232, 242, 252, 262, 272, 282, 292, 303, 313, 323, 333, 343, 353, 363, 373, 383, 393, 404, 414, 424, 434, 444, 454, 464, 474, 484, 494, 505, 515, 525, 535, 545, 555, 565, 575, 585, 595, 606, 616, 626, 636, 646, 656, 666, 676, 686, 696, 707, 717, 727, 737, 747, 757, 767, 777, 787, 797, 808, 818, 828, 838, 848, 858, 868, 878, 888, 898, 909, 919, 929, 939, 949, 959, 969, 979, 989, 999]\n"
     ]
    }
   ],
   "source": [
    "def is_palindrome(num):\n",
    "    return str(num) == str(num)[::-1]\n",
    "\n",
    "def generate_palindromic_numbers(limit):\n",
    "    palindromic_numbers = [num for num in range(1, limit + 1) if is_palindrome(num)]\n",
    "    return palindromic_numbers\n",
    "\n",
    "\n",
    "limit = 1000  \n",
    "result = generate_palindromic_numbers(limit)\n",
    "print(f\"The palindromic numbers up to {limit} are: {result}\")\n"
   ]
  },
  {
   "cell_type": "markdown",
   "id": "aa6d5cef",
   "metadata": {},
   "source": [
    "# 25. Write a program to flatten a nested list using list comprehension."
   ]
  },
  {
   "cell_type": "code",
   "execution_count": 45,
   "id": "7bee9f18",
   "metadata": {},
   "outputs": [
    {
     "name": "stdout",
     "output_type": "stream",
     "text": [
      "the flattened list is: [1, 2, 3, 4, 5, 6, 7, 8, 9]\n"
     ]
    }
   ],
   "source": [
    "nested_list = [[1, 2, 3], [4, 5], [6, 7, 8, 9]]\n",
    "\n",
    "flattened_list = [element for sublist in nested_list for element in sublist]\n",
    "\n",
    "print(f\"the flattened list is: {flattened_list}\")"
   ]
  },
  {
   "cell_type": "markdown",
   "id": "8072f74f",
   "metadata": {},
   "source": [
    "# 26. Develop a program that computes the sum of even and odd numbers in a list separately using list comprehension."
   ]
  },
  {
   "cell_type": "code",
   "execution_count": 46,
   "id": "245b0478",
   "metadata": {},
   "outputs": [
    {
     "name": "stdout",
     "output_type": "stream",
     "text": [
      "The sum of even numbers in the list is: 30\n",
      "The sum of odd numbers in the list is: 25\n"
     ]
    }
   ],
   "source": [
    "my_list = [1, 2, 3, 4, 5, 6, 7, 8, 9, 10]  \n",
    "\n",
    "even_sum = sum([num for num in my_list if num % 2 == 0])\n",
    "odd_sum = sum([num for num in my_list if num % 2 != 0])\n",
    "\n",
    "print(f\"The sum of even numbers in the list is: {even_sum}\")\n",
    "print(f\"The sum of odd numbers in the list is: {odd_sum}\")\n"
   ]
  },
  {
   "cell_type": "markdown",
   "id": "7e7b176d",
   "metadata": {},
   "source": [
    "# 27. Create a program that generates a list of squares of odd numbers between 1 and 10 using list comprehension."
   ]
  },
  {
   "cell_type": "code",
   "execution_count": 47,
   "id": "dac78345",
   "metadata": {},
   "outputs": [
    {
     "name": "stdout",
     "output_type": "stream",
     "text": [
      "The list of squares of odd numbers between 1 and 10 is: [1, 9, 25, 49, 81]\n"
     ]
    }
   ],
   "source": [
    "squares_of_odd_numbers = [x**2 for x in range(1, 11) if x % 2 != 0]\n",
    "\n",
    "print(f\"The list of squares of odd numbers between 1 and 10 is: {squares_of_odd_numbers}\")\n"
   ]
  },
  {
   "cell_type": "markdown",
   "id": "1ed704d1",
   "metadata": {},
   "source": [
    "# 28. Write a program that combines two lists into a dictionary using list comprehension."
   ]
  },
  {
   "cell_type": "code",
   "execution_count": 48,
   "id": "9d388880",
   "metadata": {},
   "outputs": [
    {
     "name": "stdout",
     "output_type": "stream",
     "text": [
      "The combined dictionary is: {'a': 1, 'b': 2, 'c': 3, 'd': 4}\n"
     ]
    }
   ],
   "source": [
    "\n",
    "keys = ['a', 'b', 'c', 'd']  \n",
    "values = [1, 2, 3, 4]  \n",
    "\n",
    "combined_dict = {keys[i]: values[i] for i in range(min(len(keys), len(values)))}\n",
    "\n",
    "print(f\"The combined dictionary is: {combined_dict}\")\n"
   ]
  },
  {
   "cell_type": "markdown",
   "id": "7f8d761f",
   "metadata": {},
   "source": [
    "# 29. Develop a program that extracts the vowels from a string and stores them in a list using list comprehension."
   ]
  },
  {
   "cell_type": "code",
   "execution_count": 49,
   "id": "afe89412",
   "metadata": {},
   "outputs": [
    {
     "name": "stdout",
     "output_type": "stream",
     "text": [
      "The vowels in the string are: ['e', 'o', 'i', 'i', 'a', 'a', 'e', 'i']\n"
     ]
    }
   ],
   "source": [
    "def extract_vowels(input_string):\n",
    "    vowels = \"aeiouAEIOU\"\n",
    "    extracted_vowels = [char for char in input_string if char in vowels]\n",
    "    return extracted_vowels\n",
    "\n",
    "\n",
    "my_string = \"Hello, this is a sample string\" \n",
    "result = extract_vowels(my_string)\n",
    "print(f\"The vowels in the string are: {result}\")\n"
   ]
  },
  {
   "cell_type": "markdown",
   "id": "df8adb7b",
   "metadata": {},
   "source": [
    "# 30. Create a program that removes all non-numeric characters from a list of strings using list comprehension."
   ]
  },
  {
   "cell_type": "code",
   "execution_count": 50,
   "id": "626fdd42",
   "metadata": {},
   "outputs": [
    {
     "name": "stdout",
     "output_type": "stream",
     "text": [
      "The list after removing non-numeric characters is: ['123', '456', '789', '']\n"
     ]
    }
   ],
   "source": [
    "\n",
    "string_list = [\"abc123\", \"456def\", \"789ghi\", \"jklmno\"]  \n",
    "\n",
    "result_list = [''.join(filter(str.isdigit, string)) for string in string_list]\n",
    "\n",
    "print(f\"The list after removing non-numeric characters is: {result_list}\")\n"
   ]
  },
  {
   "cell_type": "markdown",
   "id": "13faf9d4",
   "metadata": {},
   "source": [
    "# Challenge Level:"
   ]
  },
  {
   "cell_type": "markdown",
   "id": "12614afc",
   "metadata": {},
   "source": [
    "# 31. Write a program to generate a list of prime numbers using the Sieve of Eratosthenes algorithm and list comprehension."
   ]
  },
  {
   "cell_type": "code",
   "execution_count": 51,
   "id": "db472a47",
   "metadata": {},
   "outputs": [
    {
     "name": "stdout",
     "output_type": "stream",
     "text": [
      "The list of prime numbers up to 50 is: [2, 3, 5, 7, 11, 13, 17, 19, 23, 29, 31, 37, 41, 43, 47]\n"
     ]
    }
   ],
   "source": [
    "def sieve_of_eratosthenes(n):\n",
    "    sieve = [True] * (n+1)\n",
    "    sieve[0] = sieve[1] = False\n",
    "    for i in range(2, int(n**0.5)+1):\n",
    "        if sieve[i]:\n",
    "            sieve[i*i:n+1:i] = [False] * len(sieve[i*i:n+1:i])\n",
    "    return [i for i in range(2, n+1) if sieve[i]]\n",
    "\n",
    "\n",
    "limit = 50  \n",
    "prime_numbers = sieve_of_eratosthenes(limit)\n",
    "print(f\"The list of prime numbers up to {limit} is: {prime_numbers}\")\n"
   ]
  },
  {
   "cell_type": "markdown",
   "id": "0f0c24c3",
   "metadata": {},
   "source": [
    "# 32. Create a program that generates a list of all Pythagorean triplets up to a specified limit using list comprehension."
   ]
  },
  {
   "cell_type": "code",
   "execution_count": 53,
   "id": "2fefbcdd",
   "metadata": {},
   "outputs": [
    {
     "name": "stdout",
     "output_type": "stream",
     "text": [
      "The list of Pythagorean triplets up to 20 is: [(3, 4, 5), (5, 12, 13), (6, 8, 10), (8, 15, 17), (9, 12, 15)]\n"
     ]
    }
   ],
   "source": [
    "\n",
    "def generate_pythagorean_triplets(limit):\n",
    "    triplets = [(a, b, c) for a in range(1, limit) for b in range(a, limit) for c in range(b, limit) if a**2 + b**2 == c**2]\n",
    "    return triplets\n",
    "\n",
    "\n",
    "limit = 20 \n",
    "pythagorean_triplets = generate_pythagorean_triplets(limit)\n",
    "print(f\"The list of Pythagorean triplets up to {limit} is: {pythagorean_triplets}\")\n"
   ]
  },
  {
   "cell_type": "markdown",
   "id": "110f86f7",
   "metadata": {},
   "source": [
    "# 33. Develop a program that generates a list of all possible combinations of two lists using list comprehension."
   ]
  },
  {
   "cell_type": "code",
   "execution_count": 54,
   "id": "ba3342e0",
   "metadata": {},
   "outputs": [
    {
     "name": "stdout",
     "output_type": "stream",
     "text": [
      "All possible combinations of the two lists are: [(1, 'a'), (1, 'b'), (1, 'c'), (2, 'a'), (2, 'b'), (2, 'c'), (3, 'a'), (3, 'b'), (3, 'c')]\n"
     ]
    }
   ],
   "source": [
    "\n",
    "list1 = [1, 2, 3]  \n",
    "list2 = ['a', 'b', 'c']\n",
    "\n",
    "combinations = [(x, y) for x in list1 for y in list2]\n",
    "\n",
    "print(f\"All possible combinations of the two lists are: {combinations}\")\n"
   ]
  },
  {
   "cell_type": "markdown",
   "id": "db44ea90",
   "metadata": {},
   "source": [
    "# 34. Write a program that calculates the mean, median, and mode of a list of numbers using list comprehension."
   ]
  },
  {
   "cell_type": "code",
   "execution_count": 55,
   "id": "bd51c161",
   "metadata": {},
   "outputs": [
    {
     "name": "stdout",
     "output_type": "stream",
     "text": [
      "The mean of the list is: 4.0\n",
      "The median of the list is: 4.5\n",
      "The mode of the list is: 5\n"
     ]
    }
   ],
   "source": [
    "\n",
    "from statistics import mode\n",
    "\n",
    "\n",
    "numbers = [1, 2, 2, 3, 4, 5, 5, 5, 6, 7]\n",
    "\n",
    "\n",
    "mean = sum(numbers) / len(numbers)\n",
    "\n",
    "\n",
    "sorted_numbers = sorted(numbers)\n",
    "n = len(sorted_numbers)\n",
    "if n % 2 == 1:\n",
    "    median = sorted_numbers[n // 2]\n",
    "else:\n",
    "    median = (sorted_numbers[n // 2 - 1] + sorted_numbers[n // 2]) / 2\n",
    "\n",
    "\n",
    "mode_value = mode(numbers)\n",
    "\n",
    "\n",
    "print(f\"The mean of the list is: {mean}\")\n",
    "print(f\"The median of the list is: {median}\")\n",
    "print(f\"The mode of the list is: {mode_value}\")\n"
   ]
  },
  {
   "cell_type": "markdown",
   "id": "c9a5baa4",
   "metadata": {},
   "source": [
    "# 35. Create a program that generates Pascal's triangle up to a specified number of rows using list comprehension."
   ]
  },
  {
   "cell_type": "code",
   "execution_count": 56,
   "id": "7f76cfa5",
   "metadata": {},
   "outputs": [
    {
     "name": "stdout",
     "output_type": "stream",
     "text": [
      "[1]\n",
      "[1, 1]\n",
      "[1, 2, 1]\n",
      "[1, 3, 3, 1]\n",
      "[1, 4, 6, 4, 1]\n"
     ]
    }
   ],
   "source": [
    "\n",
    "def generate_pascals_triangle(num_rows):\n",
    "    triangle = [[1] * (i + 1) for i in range(num_rows)]\n",
    "    for i in range(num_rows):\n",
    "        for j in range(1, i):\n",
    "            triangle[i][j] = triangle[i - 1][j - 1] + triangle[i - 1][j]\n",
    "    return triangle\n",
    "\n",
    "\n",
    "num_rows = 5  \n",
    "pascals_triangle = generate_pascals_triangle(num_rows)\n",
    "for row in pascals_triangle:\n",
    "    print(row)\n"
   ]
  },
  {
   "cell_type": "markdown",
   "id": "f85d7936",
   "metadata": {},
   "source": [
    "# 36. Develop a program that calculates the sum of the digits of a factorial of numbers from 1 to 5 using list comprehension."
   ]
  },
  {
   "cell_type": "code",
   "execution_count": 60,
   "id": "ee1f30c3",
   "metadata": {},
   "outputs": [
    {
     "name": "stdout",
     "output_type": "stream",
     "text": [
      "The sum of the digits of 1 factorial (1) is: 1\n",
      "The sum of the digits of 2 factorial (2) is: 2\n",
      "The sum of the digits of 3 factorial (6) is: 6\n",
      "The sum of the digits of 4 factorial (24) is: 6\n",
      "The sum of the digits of 5 factorial (120) is: 3\n"
     ]
    }
   ],
   "source": [
    "import math\n",
    "\n",
    "\n",
    "factorials = [math.factorial(i) for i in range(1, 6)]\n",
    "\n",
    "\n",
    "sum_of_digits = [sum(map(int, str(factorial))) for factorial in factorials]\n",
    "\n",
    "\n",
    "for i in range(5):\n",
    "    print(f\"The sum of the digits of {i+1} factorial ({factorials[i]}) is: {sum_of_digits[i]}\")\n"
   ]
  },
  {
   "cell_type": "markdown",
   "id": "62c5aecf",
   "metadata": {},
   "source": [
    "# 37. Write a program that finds the longest word in a sentence using list comprehension."
   ]
  },
  {
   "cell_type": "code",
   "execution_count": 61,
   "id": "0fbf2278",
   "metadata": {},
   "outputs": [
    {
     "name": "stdout",
     "output_type": "stream",
     "text": [
      "The longest word in the sentence is: demonstrate\n"
     ]
    }
   ],
   "source": [
    "\n",
    "def find_longest_word(sentence):\n",
    "    words = sentence.split()\n",
    "    longest_word = max(words, key=len)\n",
    "    return longest_word\n",
    "\n",
    "\n",
    "\n",
    "\n",
    "input_sentence = \"This is an example sentence to demonstrate the program\"\n",
    "longest_word = find_longest_word(input_sentence)\n",
    "print(f\"The longest word in the sentence is: {longest_word}\")\n"
   ]
  },
  {
   "cell_type": "markdown",
   "id": "a1c11315",
   "metadata": {},
   "source": [
    "# 38. Create a program that filters a list of strings to include only those with more than three vowels using list comprehension."
   ]
  },
  {
   "cell_type": "code",
   "execution_count": 63,
   "id": "edd89c2c",
   "metadata": {},
   "outputs": [
    {
     "name": "stdout",
     "output_type": "stream",
     "text": [
      "The filtered list is: ['aeiou']\n"
     ]
    }
   ],
   "source": [
    "def count_vowels(string):\n",
    "    vowels = \"aeiouAEIOU\"\n",
    "    return sum(1 for char in string if char in vowels)\n",
    "\n",
    "def filter_strings_with_more_than_three_vowels(string_list):\n",
    "    return [string for string in string_list if count_vowels(string) > 3]\n",
    "\n",
    "\n",
    "my_string_list = [\"hello\", \"world\", \"example\", \"string\", \"aeiou\", \"python\"]\n",
    "filtered_list = filter_strings_with_more_than_three_vowels(my_string_list)\n",
    "print(f\"The filtered list is: {filtered_list}\")\n"
   ]
  },
  {
   "cell_type": "markdown",
   "id": "57c4cef4",
   "metadata": {},
   "source": [
    "# 39. Develop a program that calculates the sum of the digits of numbers from 1 to 1000 using list comprehension."
   ]
  },
  {
   "cell_type": "code",
   "execution_count": 64,
   "id": "072bff04",
   "metadata": {},
   "outputs": [
    {
     "name": "stdout",
     "output_type": "stream",
     "text": [
      "The sum of the digits of numbers from 1 to 1000 is: 13501\n"
     ]
    }
   ],
   "source": [
    "sum_of_digits = sum(sum(int(digit) for digit in str(num)) for num in range(1, 1001))\n",
    "\n",
    "print(f\"The sum of the digits of numbers from 1 to 1000 is: {sum_of_digits}\")\n"
   ]
  },
  {
   "cell_type": "markdown",
   "id": "f58034a4",
   "metadata": {},
   "source": [
    "# 40. Write a program that generates a list of prime palindromic numbers using list comprehension."
   ]
  },
  {
   "cell_type": "code",
   "execution_count": 65,
   "id": "b32728c6",
   "metadata": {},
   "outputs": [
    {
     "name": "stdout",
     "output_type": "stream",
     "text": [
      "The list of prime palindromic numbers is: [2, 3, 5, 7, 11, 101, 131, 151, 181, 191, 313, 353, 373, 383, 727, 757, 787, 797, 919, 929]\n"
     ]
    }
   ],
   "source": [
    "def is_prime(n):\n",
    "    if n <= 1:\n",
    "        return False\n",
    "    for i in range(2, int(n**0.5) + 1):\n",
    "        if n % i == 0:\n",
    "            return False\n",
    "    return True\n",
    "\n",
    "\n",
    "def is_palindrome(n):\n",
    "    return str(n) == str(n)[::-1]\n",
    "\n",
    "\n",
    "prime_palindromic_numbers = [num for num in range(1, 1000) if is_prime(num) and is_palindrome(num)]\n",
    "\n",
    "print(f\"The list of prime palindromic numbers is: {prime_palindromic_numbers}\")\n"
   ]
  },
  {
   "cell_type": "code",
   "execution_count": null,
   "id": "58c6cba2",
   "metadata": {},
   "outputs": [],
   "source": []
  }
 ],
 "metadata": {
  "kernelspec": {
   "display_name": "Python 3 (ipykernel)",
   "language": "python",
   "name": "python3"
  },
  "language_info": {
   "codemirror_mode": {
    "name": "ipython",
    "version": 3
   },
   "file_extension": ".py",
   "mimetype": "text/x-python",
   "name": "python",
   "nbconvert_exporter": "python",
   "pygments_lexer": "ipython3",
   "version": "3.9.7"
  }
 },
 "nbformat": 4,
 "nbformat_minor": 5
}
